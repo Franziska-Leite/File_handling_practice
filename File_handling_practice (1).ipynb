{
  "nbformat": 4,
  "nbformat_minor": 0,
  "metadata": {
    "colab": {
      "name": "File_handling_practice.ipynb",
      "provenance": []
    },
    "kernelspec": {
      "name": "python3",
      "display_name": "Python 3"
    },
    "language_info": {
      "name": "python"
    }
  },
  "cells": [
    {
      "cell_type": "code",
      "execution_count": null,
      "metadata": {
        "id": "EDv41RyjR5Du"
      },
      "outputs": [],
      "source": [
        "#create file, write a line\n",
        "with open(\"example.txt\", \"w\") as writeFile:\n",
        "  writeFile.write(\"First line.\\n\")"
      ]
    },
    {
      "cell_type": "code",
      "source": [
        "#append more lines\n",
        "with open(\"example.txt\", \"a\") as writeFile:\n",
        "  writeFile.write(\"Second line.\\nThird line.\\n\")"
      ],
      "metadata": {
        "id": "Wuc4fcTiSvuB"
      },
      "execution_count": null,
      "outputs": []
    },
    {
      "cell_type": "code",
      "source": [
        "#check wether file was created and written\n",
        "with open(\"example.txt\", \"r\") as readFile:\n",
        "  fileContent= print(readFile.read())\n"
      ],
      "metadata": {
        "colab": {
          "base_uri": "https://localhost:8080/"
        },
        "id": "Sqb4G1irSXNC",
        "outputId": "1df9016a-1edd-4103-e663-a47a8efd2209"
      },
      "execution_count": null,
      "outputs": [
        {
          "output_type": "stream",
          "name": "stdout",
          "text": [
            "First line.\n",
            "Second line.\n",
            "Third line.\n",
            "\n"
          ]
        }
      ]
    },
    {
      "cell_type": "code",
      "source": [
        "newLines=[\"4. line.\\n5. line.\\n\"]\n",
        "newLines"
      ],
      "metadata": {
        "colab": {
          "base_uri": "https://localhost:8080/"
        },
        "id": "732mb44nTFBX",
        "outputId": "091678b3-7287-4784-90a7-394115b22471"
      },
      "execution_count": null,
      "outputs": [
        {
          "output_type": "execute_result",
          "data": {
            "text/plain": [
              "['4. line.\\n5. line.\\n']"
            ]
          },
          "metadata": {},
          "execution_count": 4
        }
      ]
    },
    {
      "cell_type": "code",
      "source": [
        "#append strings in list to textfile\n",
        "with open(\"example.txt\", \"a\") as writeFile:\n",
        "  for line in newLines:\n",
        "    writeFile.write(line)"
      ],
      "metadata": {
        "id": "G2-iSVibTa07"
      },
      "execution_count": null,
      "outputs": []
    },
    {
      "cell_type": "code",
      "source": [
        "#check file\n",
        "with open(\"example.txt\", \"r\") as readFile:\n",
        "  print(readFile.read())\n",
        "  print(readFile.tell()) #tells us where the cursor is at the moment\n"
      ],
      "metadata": {
        "colab": {
          "base_uri": "https://localhost:8080/"
        },
        "id": "a7Qv5S18TujK",
        "outputId": "afc8f322-f2c1-43bf-f1ed-47be122db810"
      },
      "execution_count": null,
      "outputs": [
        {
          "output_type": "stream",
          "name": "stdout",
          "text": [
            "First line.\n",
            "Second line.\n",
            "Third line.\n",
            "4. line.\n",
            "5. line.\n",
            "\n",
            "55\n"
          ]
        }
      ]
    },
    {
      "cell_type": "code",
      "source": [
        "#write new first line (overwrites rest of file)\n",
        "with open(\"example.txt\", \"w\") as writeFile:\n",
        "  writeFile.write(\"New first line.\")\n",
        "with open(\"example.txt\", \"r\") as readFile:\n",
        "  print(readFile.read())"
      ],
      "metadata": {
        "colab": {
          "base_uri": "https://localhost:8080/"
        },
        "id": "Af2ODbMj-qY-",
        "outputId": "0452b9ad-e3b8-447a-cde4-bf4b5ff53e39"
      },
      "execution_count": null,
      "outputs": [
        {
          "output_type": "stream",
          "name": "stdout",
          "text": [
            "New first line.\n"
          ]
        }
      ]
    },
    {
      "cell_type": "code",
      "source": [
        "#check if overwritten (position cursor at beginning of file, then count lines)\n",
        "with open(\"example.txt\", \"r\") as readFile:\n",
        "  readFile.seek(0)\n",
        "  print(\"Now there is only\", len(readFile.readlines()), \"line in the file.\")"
      ],
      "metadata": {
        "colab": {
          "base_uri": "https://localhost:8080/"
        },
        "id": "zmMPQKMeAg4v",
        "outputId": "8ecda3bc-07da-4b42-b674-f3ffa5d3d881"
      },
      "execution_count": null,
      "outputs": [
        {
          "output_type": "stream",
          "name": "stdout",
          "text": [
            "Now there is only 1 line in the file.\n"
          ]
        }
      ]
    }
  ]
}